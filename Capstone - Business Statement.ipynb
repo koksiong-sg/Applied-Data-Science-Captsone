{
    "cells": [
        {
            "cell_type": "markdown",
            "metadata": {
                "collapsed": true
            },
            "source": "# Capstone Project - The Battle of the Neighborhoods"
        },
        {
            "cell_type": "markdown",
            "metadata": {},
            "source": "## Introduction"
        },
        {
            "cell_type": "markdown",
            "metadata": {},
            "source": "This is the final project for the IBM Applied Data Science Course. I have chosen to extend the project from week 3, and continue exploring the city of Toronto."
        },
        {
            "cell_type": "markdown",
            "metadata": {},
            "source": "## Problem Statement"
        },
        {
            "cell_type": "markdown",
            "metadata": {},
            "source": "The city of Toronto is a very big city with a large variety of cuisines. Many visitors from Asia like to go to Toronto, but they may have problems finding food that they like. For this project, we will make use of data from FourSquare, and identify neighbourhoods that have great Chinese Cuisines. We will recommend the Chinese Restaurants based on their \"Likes\", \"Ratings\" and \"Tips."
        },
        {
            "cell_type": "markdown",
            "metadata": {},
            "source": "## Data"
        },
        {
            "cell_type": "markdown",
            "metadata": {},
            "source": "Our primary sources of data on Toronto will be from the following:\n1. Wikipedia: \"https://en.wikipedia.org/wiki/List_of_postal_codes_of_Canada:_M\"\n2. Coordinates of Postal Codes: \"http://cocl.us/Geospatial_data\""
        },
        {
            "cell_type": "markdown",
            "metadata": {},
            "source": "## Approach and Analysis"
        },
        {
            "cell_type": "markdown",
            "metadata": {},
            "source": "1. Collect the Toronto City Data from Wikipedia\n2. Using FourSquare API to find all venues for each neighborhood.\n3. Filter out the Chinese Restaurants\n4. Find rating , tips and like count using FourSquare API.\n5. Sort the restuarants based on \"Likes\", \"Rating\", \"Tips\"\n6. Visualize data using folium library(python)"
        },
        {
            "cell_type": "code",
            "execution_count": null,
            "metadata": {},
            "outputs": [],
            "source": ""
        }
    ],
    "metadata": {
        "kernelspec": {
            "display_name": "Python 3.6",
            "language": "python",
            "name": "python3"
        },
        "language_info": {
            "codemirror_mode": {
                "name": "ipython",
                "version": 3
            },
            "file_extension": ".py",
            "mimetype": "text/x-python",
            "name": "python",
            "nbconvert_exporter": "python",
            "pygments_lexer": "ipython3",
            "version": "3.6.8"
        }
    },
    "nbformat": 4,
    "nbformat_minor": 1
}